{
 "cells": [
  {
   "cell_type": "markdown",
   "id": "568f5605",
   "metadata": {},
   "source": [
    "<img src=\"http://imgur.com/1ZcRyrc.png\" style=\"float: left; margin: 20px; height: 55px\">\n",
    "\n",
    "# Project 4: West Nile Virus Prediction"
   ]
  },
  {
   "cell_type": "markdown",
   "id": "4f6789d7",
   "metadata": {},
   "source": [
    "# Background"
   ]
  },
  {
   "cell_type": "markdown",
   "id": "df28d082",
   "metadata": {},
   "source": [
    "West Nile Virus(WNV) is most commonly spread to humans through infected mosquitoes. Around 20% of the people who become infected with the virus develop symptoms ranging from a persistent fever, to serious neurological illnesses that can result in death.\n",
    "\n",
    "In 2002, the first human case of the WNV was reported in Chicago. By 2004 the City of Chicago and the Chicago Department of Public Health(CDPH) had established a comprehensive surveillance and control program that is still in effect today.\n",
    "\n",
    "Due to the rising seasonal epidemic of the WNV in Chicago, an increasing number of people need medical attention. As such, there is a need for better mosquito control. However, the City of Chicago can only react to the new cases and spraying pesticide is costly and must be done regularly."
   ]
  },
  {
   "cell_type": "markdown",
   "id": "83c3c62c",
   "metadata": {},
   "source": [
    "# Problem Statement"
   ]
  },
  {
   "cell_type": "markdown",
   "id": "f46385fc",
   "metadata": {},
   "source": [
    "Build a classification model of at least 90% recall score to predict areas of the city where there are mosquitoes carrying the West Nile Virus. Optimise current mosquito control measures to effectively and efficiently tackle the mosquito problem and create a desirable cost-benefit analysis."
   ]
  },
  {
   "cell_type": "markdown",
   "id": "335b09b1",
   "metadata": {},
   "source": [
    "## This notebook consists of Modelling. Please refer to the relevant notebooks for the other parts.\n",
    "\n",
    "### Contents:\n",
    "- **Data Dictionary**\n",
    "- **Data Cleaning** - *refer to part 1 Data Cleaning notebook*\n",
    "- **Exploratory Data Analysis & Visualisaion** - *refer to part 2 EDA notebook*\n",
    "- **Modelling**\n",
    "- **Spray Analysis** - *refer to part 4 spray analysis and conclusion notebook*\n",
    "- **Conclusion and Recommendations** - *refer to part 4 spray analysis and conclusion notebook*"
   ]
  },
  {
   "cell_type": "markdown",
   "id": "175f5fb4",
   "metadata": {},
   "source": [
    "# Data Dictionary"
   ]
  },
  {
   "cell_type": "markdown",
   "id": "1e70dd1a",
   "metadata": {},
   "source": [
    "#### trap_trn_weather_sel_feat.csv, trap_test_weather_sel_feat.csv\n",
    "*Contains only the features and target used for modelling\n",
    "\n",
    "|Feature|Type|Description|\n",
    "|---|---|---|\n",
    "|**Address_w**|*float*|The weight assigned to address location based on the likelihood of wnv|\n",
    "|**Month_w**|*float*|The weight assigned to month based on the likelihood of wnv|\n",
    "|**Species_w**|*float*|The weight assigned to mosquito species based on the likelihood of wnv|\n",
    "|**DewPoint_14daysavg**|*float*|The average DewPoint temperature of the past 14 days (units in Fahrenheit)|\n",
    "|**WetBulb_14daysavg**|*float*|The average WetBulb temperature of the past 14 days (units in Fahrenheit)|\n",
    "|**Tavg_14daysavg**|*float*|The average daily temperature of the past 14 days (units in Fahrenheit)|\n",
    "|**Cool_14daysavg**|*float*|The average cooling temperature of the past 14 days (units in Fahrenheit)|\n",
    "|**ResultSpeed_14daysavg**|*float*|The average resultant wind speed of the past 14 days (units in MPH)|\n",
    "|**AvgSpeed_14daysavg**|*float*|The average daily wind speed of the past 14 days (units in MPH)|\n",
    "|**PrecipTotal_14daysavg**|*float*|The average of the total precipitation of the past 14 days (units in inches)|\n",
    "|**r_humidity_14daysavg**|*float*|The average relative humidity of the past 14 days (units in percentage)|\n",
    "|**WnvPresent**|*int*|Label for presence of west nile virus in mosquito (0 indicates the absence of wvn and 1 indicates the presence of wnv)|"
   ]
  },
  {
   "cell_type": "markdown",
   "id": "0fc287fe",
   "metadata": {},
   "source": [
    "# Modelling"
   ]
  },
  {
   "cell_type": "code",
   "execution_count": 1,
   "id": "172b2b19",
   "metadata": {},
   "outputs": [],
   "source": [
    "## List of selected features\n",
    "\n",
    "sel_features = ['Address_w', 'Month_w', 'DewPoint_14daysavg',\n",
    "                'r_humidity_14daysavg', 'Species_w', 'Cool_14daysavg', 'WetBulb_14daysavg',\n",
    "                'PrecipTotal_14daysavg','ResultSpeed_14daysavg', 'AvgSpeed_14daysavg', 'Tavg_14daysavg'] "
   ]
  },
  {
   "cell_type": "markdown",
   "id": "bdac0003",
   "metadata": {},
   "source": [
    "#### Choice of evaluation metrics\n",
    "Recall and ROC-AUC score were chosen. Recall was chosen because of the high importance to predict whether west nile virus is present. West nile virus has potential to cause harm to human and in some cases, it causes death and hence, missing this label should be avoided. Recall gives the percentage of how well our model can predict the west nile virus label. The higher the recall, the better the model performance. ROC-AUC which stands for Area Under Curve Receiver Operator Characteristic is area under the probability curve where the curve is plotted with True Positive Rate against the False Positive Rate. It measures how well our model is able to distinguish between the labels. ROC-AUC score was chosen as the secondary metric to ensure that the other label is not too poorly predicted and gives us the flexibility to adjust the probability boundary between the two labels. The higher the recall and ROC-AUC score and closer to 1, the better the model performance."
   ]
  },
  {
   "cell_type": "markdown",
   "id": "39d4d592",
   "metadata": {},
   "source": [
    "## Data Preparation"
   ]
  },
  {
   "cell_type": "code",
   "execution_count": 2,
   "id": "45f1d35d",
   "metadata": {},
   "outputs": [],
   "source": [
    "# Import libraries\n",
    "\n",
    "import pandas as pd\n",
    "import numpy as np\n",
    "\n",
    "# For visualisation\n",
    "import matplotlib.pyplot as plt\n",
    "import seaborn as sns\n",
    "\n",
    "# For preprocessing and data preparation\n",
    "from sklearn.model_selection import train_test_split, GridSearchCV, StratifiedKFold\n",
    "from sklearn.utils import resample\n",
    "from imblearn.over_sampling import SMOTE\n",
    "from sklearn.preprocessing import MinMaxScaler\n",
    "from sklearn.pipeline import Pipeline\n",
    "\n",
    "from imblearn.pipeline import Pipeline as imbpipeline\n",
    "from imblearn.over_sampling import RandomOverSampler\n",
    "\n",
    "# For modelling\n",
    "from sklearn.linear_model import LogisticRegression\n",
    "from sklearn.neighbors import KNeighborsClassifier\n",
    "from sklearn.ensemble import RandomForestClassifier, AdaBoostClassifier, GradientBoostingClassifier\n",
    "from sklearn.tree import DecisionTreeClassifier\n",
    "\n",
    "# For model evaluation\n",
    "from sklearn.metrics import roc_auc_score, confusion_matrix, classification_report, recall_score\n",
    "\n",
    "# For identification of feature importance\n",
    "from sklearn.inspection import permutation_importance\n",
    "\n",
    "import warnings\n",
    "warnings.filterwarnings(action = 'ignore')"
   ]
  },
  {
   "cell_type": "code",
   "execution_count": 3,
   "id": "62830d0e",
   "metadata": {},
   "outputs": [],
   "source": [
    "# Set display settings for dataframe\n",
    "\n",
    "pd.set_option('display.max_columns',90)\n",
    "pd.set_option('display.max_rows',50)\n",
    "pd.set_option('display.max_colwidth', 200)"
   ]
  },
  {
   "cell_type": "code",
   "execution_count": 4,
   "id": "8e4fc312",
   "metadata": {},
   "outputs": [],
   "source": [
    "# load train dataset with selected features\n",
    "\n",
    "trap_trn_weather_sel_feat = pd.read_csv('data/trap_trn_weather_sel_feat.csv')"
   ]
  },
  {
   "cell_type": "code",
   "execution_count": 5,
   "id": "fc81078f",
   "metadata": {},
   "outputs": [],
   "source": [
    "# Instantiate\n",
    "\n",
    "## Transformer\n",
    "\n",
    "### MinMaxScaler\n",
    "mms = MinMaxScaler()\n",
    "\n",
    "\n",
    "## Models\n",
    "\n",
    "### Logistic Regression\n",
    "LogReg = LogisticRegression(solver='liblinear')\n",
    "\n",
    "### K-nearest Neighbors\n",
    "knn = KNeighborsClassifier()\n",
    "\n",
    "### Random Forest Classifier\n",
    "rf_clf = RandomForestClassifier(random_state = 1)\n",
    "\n",
    "### Adaptive Boosting Classifier\n",
    "ad_clf = AdaBoostClassifier(random_state = 1)\n",
    "\n",
    "### Gradient Boosting Classifier\n",
    "gb_clf = GradientBoostingClassifier(random_state = 1)"
   ]
  },
  {
   "cell_type": "code",
   "execution_count": 6,
   "id": "b3d3f514",
   "metadata": {},
   "outputs": [
    {
     "data": {
      "text/html": [
       "<div>\n",
       "<style scoped>\n",
       "    .dataframe tbody tr th:only-of-type {\n",
       "        vertical-align: middle;\n",
       "    }\n",
       "\n",
       "    .dataframe tbody tr th {\n",
       "        vertical-align: top;\n",
       "    }\n",
       "\n",
       "    .dataframe thead th {\n",
       "        text-align: right;\n",
       "    }\n",
       "</style>\n",
       "<table border=\"1\" class=\"dataframe\">\n",
       "  <thead>\n",
       "    <tr style=\"text-align: right;\">\n",
       "      <th></th>\n",
       "      <th>Address_w</th>\n",
       "      <th>Month_w</th>\n",
       "      <th>DewPoint_14daysavg</th>\n",
       "      <th>r_humidity_14daysavg</th>\n",
       "      <th>Species_w</th>\n",
       "      <th>Cool_14daysavg</th>\n",
       "      <th>WetBulb_14daysavg</th>\n",
       "      <th>PrecipTotal_14daysavg</th>\n",
       "      <th>ResultSpeed_14daysavg</th>\n",
       "      <th>AvgSpeed_14daysavg</th>\n",
       "      <th>Tavg_14daysavg</th>\n",
       "      <th>WnvPresent</th>\n",
       "      <th>Address</th>\n",
       "      <th>Month</th>\n",
       "    </tr>\n",
       "  </thead>\n",
       "  <tbody>\n",
       "    <tr>\n",
       "      <th>0</th>\n",
       "      <td>0.097297</td>\n",
       "      <td>0.0</td>\n",
       "      <td>45.285714</td>\n",
       "      <td>41.42716</td>\n",
       "      <td>0.055135</td>\n",
       "      <td>2.857143</td>\n",
       "      <td>54.142857</td>\n",
       "      <td>0.091429</td>\n",
       "      <td>8.214286</td>\n",
       "      <td>9.85</td>\n",
       "      <td>64.142857</td>\n",
       "      <td>0</td>\n",
       "      <td>4100 North Oak Park Avenue, Chicago, IL 60634, USA</td>\n",
       "      <td>5</td>\n",
       "    </tr>\n",
       "    <tr>\n",
       "      <th>1</th>\n",
       "      <td>0.097297</td>\n",
       "      <td>0.0</td>\n",
       "      <td>45.285714</td>\n",
       "      <td>41.42716</td>\n",
       "      <td>0.017883</td>\n",
       "      <td>2.857143</td>\n",
       "      <td>54.142857</td>\n",
       "      <td>0.091429</td>\n",
       "      <td>8.214286</td>\n",
       "      <td>9.85</td>\n",
       "      <td>64.142857</td>\n",
       "      <td>0</td>\n",
       "      <td>4100 North Oak Park Avenue, Chicago, IL 60634, USA</td>\n",
       "      <td>5</td>\n",
       "    </tr>\n",
       "    <tr>\n",
       "      <th>2</th>\n",
       "      <td>0.000000</td>\n",
       "      <td>0.0</td>\n",
       "      <td>45.285714</td>\n",
       "      <td>41.42716</td>\n",
       "      <td>0.017883</td>\n",
       "      <td>2.857143</td>\n",
       "      <td>54.142857</td>\n",
       "      <td>0.091429</td>\n",
       "      <td>8.214286</td>\n",
       "      <td>9.85</td>\n",
       "      <td>64.142857</td>\n",
       "      <td>0</td>\n",
       "      <td>6200 North Mandell Avenue, Chicago, IL 60646, USA</td>\n",
       "      <td>5</td>\n",
       "    </tr>\n",
       "    <tr>\n",
       "      <th>3</th>\n",
       "      <td>0.114286</td>\n",
       "      <td>0.0</td>\n",
       "      <td>45.285714</td>\n",
       "      <td>41.42716</td>\n",
       "      <td>0.055135</td>\n",
       "      <td>2.857143</td>\n",
       "      <td>54.142857</td>\n",
       "      <td>0.091429</td>\n",
       "      <td>8.214286</td>\n",
       "      <td>9.85</td>\n",
       "      <td>64.142857</td>\n",
       "      <td>0</td>\n",
       "      <td>7900 West Foster Avenue, Chicago, IL 60656, USA</td>\n",
       "      <td>5</td>\n",
       "    </tr>\n",
       "    <tr>\n",
       "      <th>4</th>\n",
       "      <td>0.114286</td>\n",
       "      <td>0.0</td>\n",
       "      <td>45.285714</td>\n",
       "      <td>41.42716</td>\n",
       "      <td>0.017883</td>\n",
       "      <td>2.857143</td>\n",
       "      <td>54.142857</td>\n",
       "      <td>0.091429</td>\n",
       "      <td>8.214286</td>\n",
       "      <td>9.85</td>\n",
       "      <td>64.142857</td>\n",
       "      <td>0</td>\n",
       "      <td>7900 West Foster Avenue, Chicago, IL 60656, USA</td>\n",
       "      <td>5</td>\n",
       "    </tr>\n",
       "  </tbody>\n",
       "</table>\n",
       "</div>"
      ],
      "text/plain": [
       "   Address_w  Month_w  DewPoint_14daysavg  r_humidity_14daysavg  Species_w  \\\n",
       "0   0.097297      0.0           45.285714              41.42716   0.055135   \n",
       "1   0.097297      0.0           45.285714              41.42716   0.017883   \n",
       "2   0.000000      0.0           45.285714              41.42716   0.017883   \n",
       "3   0.114286      0.0           45.285714              41.42716   0.055135   \n",
       "4   0.114286      0.0           45.285714              41.42716   0.017883   \n",
       "\n",
       "   Cool_14daysavg  WetBulb_14daysavg  PrecipTotal_14daysavg  \\\n",
       "0        2.857143          54.142857               0.091429   \n",
       "1        2.857143          54.142857               0.091429   \n",
       "2        2.857143          54.142857               0.091429   \n",
       "3        2.857143          54.142857               0.091429   \n",
       "4        2.857143          54.142857               0.091429   \n",
       "\n",
       "   ResultSpeed_14daysavg  AvgSpeed_14daysavg  Tavg_14daysavg  WnvPresent  \\\n",
       "0               8.214286                9.85       64.142857           0   \n",
       "1               8.214286                9.85       64.142857           0   \n",
       "2               8.214286                9.85       64.142857           0   \n",
       "3               8.214286                9.85       64.142857           0   \n",
       "4               8.214286                9.85       64.142857           0   \n",
       "\n",
       "                                              Address  Month  \n",
       "0  4100 North Oak Park Avenue, Chicago, IL 60634, USA      5  \n",
       "1  4100 North Oak Park Avenue, Chicago, IL 60634, USA      5  \n",
       "2   6200 North Mandell Avenue, Chicago, IL 60646, USA      5  \n",
       "3     7900 West Foster Avenue, Chicago, IL 60656, USA      5  \n",
       "4     7900 West Foster Avenue, Chicago, IL 60656, USA      5  "
      ]
     },
     "execution_count": 6,
     "metadata": {},
     "output_type": "execute_result"
    }
   ],
   "source": [
    "trap_trn_weather_sel_feat.head()"
   ]
  },
  {
   "cell_type": "code",
   "execution_count": 7,
   "id": "9cfffc13",
   "metadata": {},
   "outputs": [],
   "source": [
    "# Split data with stratification to train and test datasets for modelling and evaluation\n",
    "\n",
    "X_train, X_val, y_train, y_val = train_test_split(trap_trn_weather_sel_feat[sel_features], \n",
    "                                                  trap_trn_weather_sel_feat['WnvPresent'],\n",
    "                                                  test_size = 0.3,\n",
    "                                                  random_state = 1,\n",
    "                                                  stratify = trap_trn_weather_sel_feat['WnvPresent'])"
   ]
  },
  {
   "cell_type": "code",
   "execution_count": 8,
   "id": "289a2e65",
   "metadata": {},
   "outputs": [
    {
     "data": {
      "text/plain": [
       "0    6968\n",
       "1     386\n",
       "Name: WnvPresent, dtype: int64"
      ]
     },
     "execution_count": 8,
     "metadata": {},
     "output_type": "execute_result"
    }
   ],
   "source": [
    "# Display number of rows of each class in train dataset\n",
    "\n",
    "y_train.value_counts()"
   ]
  },
  {
   "cell_type": "code",
   "execution_count": 9,
   "id": "64cca577",
   "metadata": {},
   "outputs": [
    {
     "data": {
      "text/plain": [
       "0    2987\n",
       "1     165\n",
       "Name: WnvPresent, dtype: int64"
      ]
     },
     "execution_count": 9,
     "metadata": {},
     "output_type": "execute_result"
    }
   ],
   "source": [
    "# Display number of rows of each class in test dataset\n",
    "\n",
    "y_val.value_counts()"
   ]
  },
  {
   "cell_type": "markdown",
   "id": "ae10cf0e",
   "metadata": {},
   "source": [
    "Imbalanced data between class 0 and class 1. Upsampling of class 1 in train dataset is required. \n",
    "\n",
    "Below are the upsampling techniques used:\n",
    "- Oversampling of class 1 with replacement\n",
    "- SMOTE"
   ]
  },
  {
   "cell_type": "code",
   "execution_count": 10,
   "id": "e93c792c",
   "metadata": {},
   "outputs": [],
   "source": [
    "# Create a list to store the model performance\n",
    "\n",
    "model_perf = []"
   ]
  },
  {
   "cell_type": "markdown",
   "id": "90f02ca7",
   "metadata": {},
   "source": [
    "### Modelling on data with oversampling of minority class with replacement"
   ]
  },
  {
   "cell_type": "code",
   "execution_count": 11,
   "id": "1ba3ea67",
   "metadata": {},
   "outputs": [
    {
     "name": "stdout",
     "output_type": "stream",
     "text": [
      "Number of rows and columns in class 0 for train dataset:\n",
      "(6968, 12)\n",
      "Number of rows and columns in class 1 for train dataset:\n",
      "(6968, 12)\n"
     ]
    }
   ],
   "source": [
    "## Upsampling of minority class 1 to match with class 0 using resampling\n",
    "\n",
    "# Combine the X and y for trainset for upsampling\n",
    "df_train = pd.concat([X_train, y_train], axis=1)\n",
    "\n",
    "#create two different dataframe of majority and minority class \n",
    "df_majority = df_train[df_train['WnvPresent']==0] \n",
    "df_minority = df_train[df_train['WnvPresent']==1] \n",
    "\n",
    "# upsample minority class\n",
    "df_minority_upsampled = resample(df_minority, \n",
    "                                 replace=True,    # sample with replacement\n",
    "                                 n_samples= y_train.value_counts().loc[0], # to match counts of majority class (i.e. class 0)\n",
    "                                 random_state=1)  # reproducible results\n",
    "\n",
    "# Print the info on the class 0 and 1\n",
    "print('Number of rows and columns in class 0 for train dataset:')\n",
    "print(df_majority.shape)\n",
    "print('Number of rows and columns in class 1 for train dataset:')\n",
    "print(df_minority_upsampled.shape)\n",
    "\n",
    "\n",
    "# Combine majority class with upsampled minority class\n",
    "train_upsampled = pd.concat([df_minority_upsampled, df_majority])\n",
    "\n",
    "# Split X and y\n",
    "X_train_re = train_upsampled.drop(['WnvPresent'], axis=1)\n",
    "y_train_re = train_upsampled.WnvPresent"
   ]
  },
  {
   "cell_type": "code",
   "execution_count": 12,
   "id": "b5ba3cae",
   "metadata": {},
   "outputs": [
    {
     "name": "stdout",
     "output_type": "stream",
     "text": [
      "*KNN - MinMaxScaler*\n",
      "Recall_score for train: 1.0\n",
      "Recall_score for val: 0.47878787878787876\n",
      "roc_auc_score for train: 0.9716680398327215\n",
      "roc_auc_score for val: 0.7128546935711315\n",
      "\n",
      "\n",
      "Classification Report for val dataset\n",
      "              precision    recall  f1-score   support\n",
      "\n",
      "           0       0.97      0.86      0.91      2987\n",
      "           1       0.16      0.48      0.24       165\n",
      "\n",
      "    accuracy                           0.84      3152\n",
      "   macro avg       0.56      0.67      0.57      3152\n",
      "weighted avg       0.93      0.84      0.87      3152\n",
      "\n"
     ]
    }
   ],
   "source": [
    "## Modelling with K Nearest Neighbors - MinMaxScaler\n",
    "\n",
    "print('*KNN - MinMaxScaler*')\n",
    "\n",
    "# Create Pipeline\n",
    "pipe_mms_knn = Pipeline([\n",
    "    ('mms', mms),\n",
    "    ('knn', knn)\n",
    "])\n",
    "\n",
    "# Train model\n",
    "pipe_mms_knn.fit(X_train_re, y_train_re)\n",
    "\n",
    "# Recall score for train dataset\n",
    "recall_score_mms_knn_train = recall_score(y_train_re, pipe_mms_knn.predict(X_train_re))\n",
    "print(f'Recall_score for train: {recall_score_mms_knn_train}')\n",
    "\n",
    "# Recall score for val dataset\n",
    "recall_score_mms_knn_val = recall_score(y_val, pipe_mms_knn.predict(X_val))\n",
    "print(f'Recall_score for val: {recall_score_mms_knn_val}')\n",
    "\n",
    "# ROC-AUC score for train dataset\n",
    "roc_auc_score_mms_knn_train = roc_auc_score(y_train, pipe_mms_knn.predict_proba(X_train)[:,1])\n",
    "print(f'roc_auc_score for train: {roc_auc_score_mms_knn_train}')\n",
    "\n",
    "# ROC-AUC score for val dataset\n",
    "roc_auc_score_mms_knn_val = roc_auc_score(y_val, pipe_mms_knn.predict_proba(X_val)[:,1])\n",
    "print(f'roc_auc_score for val: {roc_auc_score_mms_knn_val}')\n",
    "\n",
    "# Append model score to 'model_perf' list\n",
    "model_perf.append({'model': 'KNN (baseline)',\n",
    "                   'management of imbalanced data':'oversampling of minority class using replacement',\n",
    "                   'scaler': 'MinMaxScaler',\n",
    "                   'Recall for train': recall_score_mms_knn_train,\n",
    "                   'Recall for val': recall_score_mms_knn_val,\n",
    "                   'ROC-AUC Score for train': roc_auc_score_mms_knn_train,\n",
    "                   'ROC-AUC Score for val': roc_auc_score_mms_knn_val})\n",
    "\n",
    "# Display Classification Metrics for val\n",
    "print('\\n')\n",
    "print('Classification Report for val dataset')\n",
    "print(classification_report(y_val, pipe_mms_knn.predict(X_val)))\n"
   ]
  },
  {
   "cell_type": "code",
   "execution_count": 13,
   "id": "3d94f789",
   "metadata": {},
   "outputs": [
    {
     "name": "stdout",
     "output_type": "stream",
     "text": [
      "*LogReg - MinMaxScaler*\n",
      "Recall_score for train: 0.7570321469575201\n",
      "Recall_score for val: 0.793939393939394\n",
      "roc_auc_score for train: 0.8175999238562073\n",
      "roc_auc_score for val: 0.8257246045997302\n",
      "\n",
      "\n",
      "Classification Report for val dataset\n",
      "              precision    recall  f1-score   support\n",
      "\n",
      "           0       0.98      0.72      0.83      2987\n",
      "           1       0.13      0.79      0.23       165\n",
      "\n",
      "    accuracy                           0.72      3152\n",
      "   macro avg       0.56      0.76      0.53      3152\n",
      "weighted avg       0.94      0.72      0.80      3152\n",
      "\n"
     ]
    }
   ],
   "source": [
    "## Modelling with LogisticRegression - MinMaxScaler\n",
    "\n",
    "print('*LogReg - MinMaxScaler*')\n",
    "\n",
    "# Create Pipeline\n",
    "pipe_mms_logreg = Pipeline([\n",
    "    ('mms', mms),\n",
    "    ('LogReg', LogReg)\n",
    "])\n",
    "\n",
    "# Train model\n",
    "pipe_mms_logreg.fit(X_train_re, y_train_re)\n",
    "\n",
    "# Recall score for train dataset\n",
    "recall_score_mms_logreg_train = recall_score(y_train_re, pipe_mms_logreg.predict(X_train_re))\n",
    "print(f'Recall_score for train: {recall_score_mms_logreg_train}')\n",
    "\n",
    "# Recall score for val dataset\n",
    "recall_score_mms_logreg_val = recall_score(y_val, pipe_mms_logreg.predict(X_val))\n",
    "print(f'Recall_score for val: {recall_score_mms_logreg_val}')\n",
    "\n",
    "# ROC-AUC score for train dataset\n",
    "roc_auc_score_mms_logreg_train = roc_auc_score(y_train, pipe_mms_logreg.predict_proba(X_train)[:,1])\n",
    "print(f'roc_auc_score for train: {roc_auc_score_mms_logreg_train}')\n",
    "\n",
    "# ROC-AUC score for val dataset\n",
    "roc_auc_score_mms_logreg_val = roc_auc_score(y_val, pipe_mms_logreg.predict_proba(X_val)[:,1])\n",
    "print(f'roc_auc_score for val: {roc_auc_score_mms_logreg_val}')\n",
    "\n",
    "# Append model score to 'model_perf' list\n",
    "model_perf.append({'model': 'LogReg',\n",
    "                   'management of imbalanced data':'oversampling of minority class using replacement',\n",
    "                   'scaler': 'MinMaxScaler',\n",
    "                   'Recall for train': recall_score_mms_logreg_train,\n",
    "                   'Recall for val': recall_score_mms_logreg_val,\n",
    "                   'ROC-AUC Score for train': roc_auc_score_mms_logreg_train,\n",
    "                   'ROC-AUC Score for val': roc_auc_score_mms_logreg_val})\n",
    "\n",
    "# Display Classification Metrics for val\n",
    "print('\\n')\n",
    "print('Classification Report for val dataset')\n",
    "print(classification_report(y_val, pipe_mms_logreg.predict(X_val)))\n"
   ]
  },
  {
   "cell_type": "code",
   "execution_count": 14,
   "id": "4b097e66",
   "metadata": {},
   "outputs": [
    {
     "name": "stdout",
     "output_type": "stream",
     "text": [
      "*Random Forest Classifier*\n",
      "Recall_score for train: 0.9928243398392652\n",
      "Recall_score for val: 0.2727272727272727\n",
      "roc_auc_score for train: 0.9951041920727173\n",
      "roc_auc_score for val: 0.7790557060393016\n",
      "\n",
      "\n",
      "Classification Report for val dataset\n",
      "              precision    recall  f1-score   support\n",
      "\n",
      "           0       0.96      0.92      0.94      2987\n",
      "           1       0.16      0.27      0.20       165\n",
      "\n",
      "    accuracy                           0.89      3152\n",
      "   macro avg       0.56      0.60      0.57      3152\n",
      "weighted avg       0.92      0.89      0.90      3152\n",
      "\n"
     ]
    }
   ],
   "source": [
    "## Modelling with Random Forest Classifier\n",
    "# Note: no scaling is required\n",
    "\n",
    "print('*Random Forest Classifier*')\n",
    "\n",
    "# Instantiate\n",
    "rf_clf = RandomForestClassifier(n_estimators=200, random_state=1)\n",
    "\n",
    "# Train model\n",
    "rf_clf.fit(X_train_re, y_train_re)\n",
    "\n",
    "# Recall score for train dataset\n",
    "recall_score_mms_rfclf_train = recall_score(y_train_re, rf_clf.predict(X_train_re))\n",
    "print(f'Recall_score for train: {recall_score_mms_rfclf_train}')\n",
    "\n",
    "# Recall score for val dataset\n",
    "recall_score_rfclf_val = recall_score(y_val, rf_clf.predict(X_val))\n",
    "print(f'Recall_score for val: {recall_score_rfclf_val}')\n",
    "\n",
    "# ROC-AUC score for train dataset\n",
    "roc_auc_score_rfclf_train = roc_auc_score(y_train, rf_clf.predict_proba(X_train)[:,1])\n",
    "print(f'roc_auc_score for train: {roc_auc_score_rfclf_train}')\n",
    "\n",
    "# ROC-AUC score for val dataset\n",
    "roc_auc_score_rfclf_val = roc_auc_score(y_val, rf_clf.predict_proba(X_val)[:,1])\n",
    "print(f'roc_auc_score for val: {roc_auc_score_rfclf_val}')\n",
    "\n",
    "# Append model score to 'model_perf' list\n",
    "model_perf.append({'model': 'Random Forest Classifier',\n",
    "                   'management of imbalanced data':'oversampling of minority class using replacement',\n",
    "                   'scaler': '-',\n",
    "                   'Recall for train': recall_score_mms_rfclf_train,\n",
    "                   'Recall for val': recall_score_rfclf_val,\n",
    "                   'ROC-AUC Score for train': roc_auc_score_rfclf_train,\n",
    "                   'ROC-AUC Score for val': roc_auc_score_rfclf_val})\n",
    "\n",
    "# Display Classification Metrics for val\n",
    "print('\\n')\n",
    "print('Classification Report for val dataset')\n",
    "print(classification_report(y_val, rf_clf.predict(X_val)))\n"
   ]
  },
  {
   "cell_type": "code",
   "execution_count": 15,
   "id": "8e51bb81",
   "metadata": {},
   "outputs": [
    {
     "name": "stdout",
     "output_type": "stream",
     "text": [
      "*Adaptive Boosting Classifier*\n",
      "Recall_score for train: 0.8429965556831228\n",
      "Recall_score for val: 0.793939393939394\n",
      "roc_auc_score for train: 0.8915438005270578\n",
      "roc_auc_score for val: 0.8459070111899036\n",
      "\n",
      "\n",
      "Classification Report for val dataset\n",
      "              precision    recall  f1-score   support\n",
      "\n",
      "           0       0.99      0.75      0.85      2987\n",
      "           1       0.15      0.79      0.25       165\n",
      "\n",
      "    accuracy                           0.75      3152\n",
      "   macro avg       0.57      0.77      0.55      3152\n",
      "weighted avg       0.94      0.75      0.82      3152\n",
      "\n"
     ]
    }
   ],
   "source": [
    "## Modelling with Adaptive Boosting Classifier\n",
    "# Note: no scaling is required\n",
    "\n",
    "print('*Adaptive Boosting Classifier*')\n",
    "\n",
    "# Instantiate\n",
    "ad_estimator = DecisionTreeClassifier(max_depth=1)\n",
    "ad_clf = AdaBoostClassifier(base_estimator=ad_estimator, n_estimators=200, learning_rate=1.0, random_state=1)\n",
    "\n",
    "# Train model\n",
    "ad_clf.fit(X_train_re, y_train_re)\n",
    "\n",
    "# Recall score for train dataset\n",
    "recall_score_mms_adclf_train = recall_score(y_train_re, ad_clf.predict(X_train_re))\n",
    "print(f'Recall_score for train: {recall_score_mms_adclf_train}')\n",
    "\n",
    "# Recall score for val dataset\n",
    "recall_score_adclf_val = recall_score(y_val, ad_clf.predict(X_val))\n",
    "print(f'Recall_score for val: {recall_score_adclf_val}')\n",
    "\n",
    "# ROC-AUC score for train dataset\n",
    "roc_auc_score_adclf_train = roc_auc_score(y_train, ad_clf.predict_proba(X_train)[:,1])\n",
    "print(f'roc_auc_score for train: {roc_auc_score_adclf_train}')\n",
    "\n",
    "# ROC-AUC score for val dataset\n",
    "roc_auc_score_adclf_val = roc_auc_score(y_val, ad_clf.predict_proba(X_val)[:,1])\n",
    "print(f'roc_auc_score for val: {roc_auc_score_adclf_val}')\n",
    "\n",
    "# Append model score to 'model_perf' list\n",
    "model_perf.append({'model': 'Adaptive Boosting Classifier',\n",
    "                   'management of imbalanced data':'oversampling of minority class using replacement',\n",
    "                   'scaler': '-',\n",
    "                   'Recall for train': recall_score_mms_adclf_train,\n",
    "                   'Recall for val': recall_score_adclf_val,\n",
    "                   'ROC-AUC Score for train': roc_auc_score_adclf_train,\n",
    "                   'ROC-AUC Score for val': roc_auc_score_adclf_val})\n",
    "\n",
    "# Display Classification Metrics for val\n",
    "print('\\n')\n",
    "print('Classification Report for val dataset')\n",
    "print(classification_report(y_val, ad_clf.predict(X_val)))"
   ]
  },
  {
   "cell_type": "code",
   "execution_count": 16,
   "id": "f68421bd",
   "metadata": {},
   "outputs": [
    {
     "name": "stdout",
     "output_type": "stream",
     "text": [
      "*Gradient Boosting Classifier*\n",
      "Recall_score for train: 0.9421641791044776\n",
      "Recall_score for val: 0.7575757575757576\n",
      "roc_auc_score for train: 0.9281056480253178\n",
      "roc_auc_score for val: 0.8507867425510546\n",
      "\n",
      "\n",
      "Classification Report for val dataset\n",
      "              precision    recall  f1-score   support\n",
      "\n",
      "           0       0.98      0.79      0.88      2987\n",
      "           1       0.17      0.76      0.28       165\n",
      "\n",
      "    accuracy                           0.79      3152\n",
      "   macro avg       0.58      0.78      0.58      3152\n",
      "weighted avg       0.94      0.79      0.85      3152\n",
      "\n"
     ]
    }
   ],
   "source": [
    "## Modelling with Gradient Boosting Classifier\n",
    "# Note: no scaling is required\n",
    "\n",
    "print('*Gradient Boosting Classifier*')\n",
    "\n",
    "# Instantiate\n",
    "gb_clf = GradientBoostingClassifier(n_estimators=200, learning_rate=0.1, random_state=1)\n",
    "\n",
    "# Train model\n",
    "gb_clf.fit(X_train_re, y_train_re)\n",
    "\n",
    "# Recall score for train dataset\n",
    "recall_score_mms_gbclf_train = recall_score(y_train_re, gb_clf.predict(X_train_re))\n",
    "print(f'Recall_score for train: {recall_score_mms_gbclf_train}')\n",
    "\n",
    "# Recall score for val dataset\n",
    "recall_score_gbclf_val = recall_score(y_val, gb_clf.predict(X_val))\n",
    "print(f'Recall_score for val: {recall_score_gbclf_val}')\n",
    "\n",
    "# ROC-AUC score for train dataset\n",
    "roc_auc_score_gbclf_train = roc_auc_score(y_train, gb_clf.predict_proba(X_train)[:,1])\n",
    "print(f'roc_auc_score for train: {roc_auc_score_gbclf_train}')\n",
    "\n",
    "# ROC-AUC score for val dataset\n",
    "roc_auc_score_gbclf_val = roc_auc_score(y_val, gb_clf.predict_proba(X_val)[:,1])\n",
    "print(f'roc_auc_score for val: {roc_auc_score_gbclf_val}')\n",
    "\n",
    "# Append model score to 'model_perf' list\n",
    "model_perf.append({'model': 'Gradient Boosting Classifier',\n",
    "                   'management of imbalanced data':'oversampling of minority class using replacement',\n",
    "                   'scaler': '-',\n",
    "                   'Recall for train': recall_score_mms_gbclf_train,\n",
    "                   'Recall for val': recall_score_gbclf_val,\n",
    "                   'ROC-AUC Score for train': roc_auc_score_gbclf_train,\n",
    "                   'ROC-AUC Score for val': roc_auc_score_gbclf_val})\n",
    "\n",
    "# Display Classification Metrics for val\n",
    "print('\\n')\n",
    "print('Classification Report for val dataset')\n",
    "print(classification_report(y_val, gb_clf.predict(X_val)))"
   ]
  },
  {
   "cell_type": "markdown",
   "id": "2ad3413c",
   "metadata": {},
   "source": [
    "### Modelling on imbalanced data with SMOTE"
   ]
  },
  {
   "cell_type": "code",
   "execution_count": 17,
   "id": "905939c0",
   "metadata": {},
   "outputs": [],
   "source": [
    "## Oversampling of minority class using SMOTE - Synthetic Minority Oversampling Technique\n",
    "\n",
    "# Resampling the minority class. The strategy can be changed as required.\n",
    "sm = SMOTE(sampling_strategy='not majority', random_state=1)\n",
    "\n",
    "# Fit the model to generate the data.\n",
    "X_train_sm, y_train_sm = sm.fit_resample(X_train, y_train)\n"
   ]
  },
  {
   "cell_type": "code",
   "execution_count": 18,
   "id": "96babfd9",
   "metadata": {},
   "outputs": [
    {
     "name": "stdout",
     "output_type": "stream",
     "text": [
      "Value counts of y_train i.e. before SMOTE\n",
      "0    6968\n",
      "1     386\n",
      "Name: WnvPresent, dtype: int64\n",
      "\n",
      "\n",
      "Value counts of y_train_sm i.e. after SMOTE\n",
      "0    6968\n",
      "1    6968\n",
      "Name: WnvPresent, dtype: int64\n"
     ]
    }
   ],
   "source": [
    "# Display the value counts of y_train and y_train_sm\n",
    "\n",
    "print('Value counts of y_train i.e. before SMOTE')\n",
    "print(y_train.value_counts())\n",
    "\n",
    "print('\\n')\n",
    "\n",
    "print('Value counts of y_train_sm i.e. after SMOTE')\n",
    "print(y_train_sm.value_counts())"
   ]
  },
  {
   "cell_type": "code",
   "execution_count": 19,
   "id": "e5f29e12",
   "metadata": {},
   "outputs": [
    {
     "name": "stdout",
     "output_type": "stream",
     "text": [
      "*LogReg - MinMaxScaler*\n",
      "Recall_score for train: 0.7876004592422503\n",
      "Recall_score for val: 0.793939393939394\n",
      "roc_auc_score for train: 0.8173296282636241\n",
      "roc_auc_score for val: 0.8241967718700226\n",
      "\n",
      "\n",
      "Classification Report for val dataset\n",
      "              precision    recall  f1-score   support\n",
      "\n",
      "           0       0.98      0.72      0.83      2987\n",
      "           1       0.14      0.79      0.23       165\n",
      "\n",
      "    accuracy                           0.72      3152\n",
      "   macro avg       0.56      0.76      0.53      3152\n",
      "weighted avg       0.94      0.72      0.80      3152\n",
      "\n"
     ]
    }
   ],
   "source": [
    "## Modelling with LogisticRegression - SMOTE / MinMaxScaler\n",
    "\n",
    "print('*LogReg - MinMaxScaler*')\n",
    "\n",
    "# Create Pipeline\n",
    "pipe_mms_logreg = Pipeline([\n",
    "    ('mms', mms),\n",
    "    ('LogReg', LogReg)\n",
    "])\n",
    "\n",
    "# Train model\n",
    "pipe_mms_logreg.fit(X_train_sm, y_train_sm)\n",
    "\n",
    "# Recall score for train dataset\n",
    "recall_score_mms_logreg_train = recall_score(y_train_sm, pipe_mms_logreg.predict(X_train_sm))\n",
    "print(f'Recall_score for train: {recall_score_mms_logreg_train}')\n",
    "\n",
    "# Recall score for val dataset\n",
    "recall_score_mms_logreg_val = recall_score(y_val, pipe_mms_logreg.predict(X_val))\n",
    "print(f'Recall_score for val: {recall_score_mms_logreg_val}')\n",
    "\n",
    "# ROC-AUC score for train dataset\n",
    "roc_auc_score_mms_logreg_train = roc_auc_score(y_train, pipe_mms_logreg.predict_proba(X_train)[:,1])\n",
    "print(f'roc_auc_score for train: {roc_auc_score_mms_logreg_train}')\n",
    "\n",
    "# ROC-AUC score for val dataset\n",
    "roc_auc_score_mms_logreg_val = roc_auc_score(y_val, pipe_mms_logreg.predict_proba(X_val)[:,1])\n",
    "print(f'roc_auc_score for val: {roc_auc_score_mms_logreg_val}')\n",
    "\n",
    "# Append model score to 'model_perf' list\n",
    "model_perf.append({'model': 'LogReg',\n",
    "                   'management of imbalanced data':'SMOTE',\n",
    "                   'scaler': 'MinMaxScaler',\n",
    "                   'Recall for train': recall_score_mms_logreg_train,\n",
    "                   'Recall for val': recall_score_mms_logreg_val,\n",
    "                   'ROC-AUC Score for train': roc_auc_score_mms_logreg_train,\n",
    "                   'ROC-AUC Score for val': roc_auc_score_mms_logreg_val})\n",
    "\n",
    "# Display Classification Metrics for val\n",
    "print('\\n')\n",
    "print('Classification Report for val dataset')\n",
    "print(classification_report(y_val, pipe_mms_logreg.predict(X_val)))\n"
   ]
  },
  {
   "cell_type": "code",
   "execution_count": 20,
   "id": "364f9204",
   "metadata": {},
   "outputs": [
    {
     "name": "stdout",
     "output_type": "stream",
     "text": [
      "*KNN - MinMaxScaler*\n",
      "Recall_score for train: 0.8747129735935706\n",
      "Recall_score for val: 0.44242424242424244\n",
      "roc_auc_score for train: 0.9378498599073186\n",
      "roc_auc_score for val: 0.7737955382414706\n",
      "\n",
      "\n",
      "Classification Report for val dataset\n",
      "              precision    recall  f1-score   support\n",
      "\n",
      "           0       0.97      0.91      0.94      2987\n",
      "           1       0.21      0.44      0.28       165\n",
      "\n",
      "    accuracy                           0.88      3152\n",
      "   macro avg       0.59      0.67      0.61      3152\n",
      "weighted avg       0.93      0.88      0.90      3152\n",
      "\n"
     ]
    }
   ],
   "source": [
    "## Modelling with K Nearest Neighbors - SMOTE / MinMaxScaler\n",
    "\n",
    "print('*KNN - MinMaxScaler*')\n",
    "\n",
    "# Create Pipeline\n",
    "pipe_mms_knn = Pipeline([\n",
    "    ('mms', mms),\n",
    "    ('knn', knn)\n",
    "])\n",
    "\n",
    "# Train model\n",
    "pipe_mms_knn.fit(X_train_sm, y_train_sm)\n",
    "\n",
    "# Recall score for train dataset\n",
    "recall_score_mms_knn_train = recall_score(y_train_sm, pipe_mms_knn.predict(X_train_sm))\n",
    "print(f'Recall_score for train: {recall_score_mms_knn_train}')\n",
    "\n",
    "# Recall score for val dataset\n",
    "recall_score_mms_knn_val = recall_score(y_val, pipe_mms_knn.predict(X_val))\n",
    "print(f'Recall_score for val: {recall_score_mms_knn_val}')\n",
    "\n",
    "# ROC-AUC score for train dataset\n",
    "roc_auc_score_mms_knn_train = roc_auc_score(y_train, pipe_mms_knn.predict_proba(X_train)[:,1])\n",
    "print(f'roc_auc_score for train: {roc_auc_score_mms_knn_train}')\n",
    "\n",
    "# ROC-AUC score for val dataset\n",
    "roc_auc_score_mms_knn_val = roc_auc_score(y_val, pipe_mms_knn.predict_proba(X_val)[:,1])\n",
    "print(f'roc_auc_score for val: {roc_auc_score_mms_knn_val}')\n",
    "\n",
    "# Append model score to 'model_perf' list\n",
    "model_perf.append({'model': 'KNN',\n",
    "                   'management of imbalanced data':'SMOTE',\n",
    "                   'scaler': 'MinMaxScaler',\n",
    "                   'Recall for train': recall_score_mms_knn_train,\n",
    "                   'Recall for val': recall_score_mms_knn_val,\n",
    "                   'ROC-AUC Score for train': roc_auc_score_mms_knn_train,\n",
    "                   'ROC-AUC Score for val': roc_auc_score_mms_knn_val})\n",
    "\n",
    "# Display Classification Metrics for val\n",
    "print('\\n')\n",
    "print('Classification Report for val dataset')\n",
    "print(classification_report(y_val, pipe_mms_knn.predict(X_val)))"
   ]
  },
  {
   "cell_type": "code",
   "execution_count": 21,
   "id": "70d0f23b",
   "metadata": {},
   "outputs": [
    {
     "name": "stdout",
     "output_type": "stream",
     "text": [
      "*Random Forest Classifier*\n",
      "Recall_score for train: 0.9879448909299655\n",
      "Recall_score for val: 0.3090909090909091\n",
      "roc_auc_score for train: 0.9860249370921399\n",
      "roc_auc_score for val: 0.7943735987257916\n",
      "\n",
      "\n",
      "Classification Report for val dataset\n",
      "              precision    recall  f1-score   support\n",
      "\n",
      "           0       0.96      0.92      0.94      2987\n",
      "           1       0.17      0.31      0.22       165\n",
      "\n",
      "    accuracy                           0.89      3152\n",
      "   macro avg       0.57      0.61      0.58      3152\n",
      "weighted avg       0.92      0.89      0.90      3152\n",
      "\n"
     ]
    }
   ],
   "source": [
    "## Modelling with Random Forest Classifier - SMOTE\n",
    "# Note: no scaling is required\n",
    "\n",
    "print('*Random Forest Classifier*')\n",
    "\n",
    "# Instantiate\n",
    "rf_clf = RandomForestClassifier(n_estimators=200, random_state=1)\n",
    "\n",
    "# Train model\n",
    "rf_clf.fit(X_train_sm, y_train_sm)\n",
    "\n",
    "# Recall score for train dataset\n",
    "recall_score_rfclf_train = recall_score(y_train_sm, rf_clf.predict(X_train_sm))\n",
    "print(f'Recall_score for train: {recall_score_rfclf_train}')\n",
    "\n",
    "# Recall score for val dataset\n",
    "recall_score_rfclf_val = recall_score(y_val, rf_clf.predict(X_val))\n",
    "print(f'Recall_score for val: {recall_score_rfclf_val}')\n",
    "\n",
    "# ROC-AUC score for train dataset\n",
    "roc_auc_score_rfclf_train = roc_auc_score(y_train, rf_clf.predict_proba(X_train)[:,1])\n",
    "print(f'roc_auc_score for train: {roc_auc_score_rfclf_train}')\n",
    "\n",
    "# ROC-AUC score for val dataset\n",
    "roc_auc_score_rfclf_val = roc_auc_score(y_val, rf_clf.predict_proba(X_val)[:,1])\n",
    "print(f'roc_auc_score for val: {roc_auc_score_rfclf_val}')\n",
    "\n",
    "# Append model score to 'model_perf' list\n",
    "model_perf.append({'model': 'Random Forest Classifier',\n",
    "                   'management of imbalanced data':'SMOTE',\n",
    "                   'scaler': '-',\n",
    "                   'Recall for train': recall_score_rfclf_train,\n",
    "                   'Recall for val': recall_score_rfclf_val,\n",
    "                   'ROC-AUC Score for train': roc_auc_score_rfclf_train,\n",
    "                   'ROC-AUC Score for val': roc_auc_score_rfclf_val})\n",
    "\n",
    "# Display Classification Metrics for val\n",
    "print('\\n')\n",
    "print('Classification Report for val dataset')\n",
    "print(classification_report(y_val, rf_clf.predict(X_val)))"
   ]
  },
  {
   "cell_type": "code",
   "execution_count": 22,
   "id": "4ad62385",
   "metadata": {},
   "outputs": [
    {
     "name": "stdout",
     "output_type": "stream",
     "text": [
      "*Adaptive Boosting Classifier*\n",
      "Recall_score for train: 0.922646383467279\n",
      "Recall_score for val: 0.6545454545454545\n",
      "roc_auc_score for train: 0.8825790586723616\n",
      "roc_auc_score for val: 0.8407665540574815\n",
      "\n",
      "\n",
      "Classification Report for val dataset\n",
      "              precision    recall  f1-score   support\n",
      "\n",
      "           0       0.98      0.85      0.91      2987\n",
      "           1       0.19      0.65      0.30       165\n",
      "\n",
      "    accuracy                           0.84      3152\n",
      "   macro avg       0.58      0.75      0.60      3152\n",
      "weighted avg       0.94      0.84      0.88      3152\n",
      "\n"
     ]
    }
   ],
   "source": [
    "## Modelling with Adaptive Boosting Classifier - SMOTE\n",
    "# Note: no scaling is required\n",
    "\n",
    "print('*Adaptive Boosting Classifier*')\n",
    "\n",
    "# Instantiate\n",
    "ad_estimator = DecisionTreeClassifier(max_depth=1)\n",
    "ad_clf = AdaBoostClassifier(base_estimator=ad_estimator, n_estimators=200, learning_rate=1.0, random_state=1)\n",
    "\n",
    "# Train model\n",
    "ad_clf.fit(X_train_sm, y_train_sm)\n",
    "\n",
    "# Recall score for train dataset\n",
    "recall_score_adclf_train = recall_score(y_train_sm, ad_clf.predict(X_train_sm))\n",
    "print(f'Recall_score for train: {recall_score_adclf_train}')\n",
    "\n",
    "# Recall score for val dataset\n",
    "recall_score_adclf_val = recall_score(y_val, ad_clf.predict(X_val))\n",
    "print(f'Recall_score for val: {recall_score_adclf_val}')\n",
    "\n",
    "# ROC-AUC score for train dataset\n",
    "roc_auc_score_adclf_train = roc_auc_score(y_train, ad_clf.predict_proba(X_train)[:,1])\n",
    "print(f'roc_auc_score for train: {roc_auc_score_adclf_train}')\n",
    "\n",
    "# ROC-AUC score for val dataset\n",
    "roc_auc_score_adclf_val = roc_auc_score(y_val, ad_clf.predict_proba(X_val)[:,1])\n",
    "print(f'roc_auc_score for val: {roc_auc_score_adclf_val}')\n",
    "\n",
    "# Append model score to 'model_perf' list\n",
    "model_perf.append({'model': 'Adaptive Boosting Classifier',\n",
    "                   'management of imbalanced data':'SMOTE',\n",
    "                   'scaler': '-',\n",
    "                   'Recall for train': recall_score_adclf_train,\n",
    "                   'Recall for val': recall_score_adclf_val,\n",
    "                   'ROC-AUC Score for train': roc_auc_score_adclf_train,\n",
    "                   'ROC-AUC Score for val': roc_auc_score_adclf_val})\n",
    "\n",
    "# Display Classification Metrics for val\n",
    "print('\\n')\n",
    "print('Classification Report for val dataset')\n",
    "print(classification_report(y_val, ad_clf.predict(X_val)))"
   ]
  },
  {
   "cell_type": "code",
   "execution_count": null,
   "id": "00551973",
   "metadata": {},
   "outputs": [
    {
     "name": "stdout",
     "output_type": "stream",
     "text": [
      "*Gradient Boosting Classifier*\n"
     ]
    }
   ],
   "source": [
    "## Modelling with Gradient Boosting Classifier - SMOTE\n",
    "# Note: no scaling is required\n",
    "\n",
    "print('*Gradient Boosting Classifier*')\n",
    "\n",
    "# Instantiate\n",
    "gb_clf = GradientBoostingClassifier(n_estimators=200, learning_rate=0.1, random_state=1)\n",
    "\n",
    "# Train model\n",
    "gb_clf.fit(X_train_sm, y_train_sm)\n",
    "\n",
    "# Recall score for train dataset\n",
    "recall_score_gbclf_train = recall_score(y_train_sm, gb_clf.predict(X_train_sm))\n",
    "print(f'Recall_score for train: {recall_score_gbclf_train}')\n",
    "\n",
    "# Recall score for val dataset\n",
    "recall_score_gbclf_val = recall_score(y_val, gb_clf.predict(X_val))\n",
    "print(f'Recall_score for val: {recall_score_gbclf_val}')\n",
    "\n",
    "# ROC-AUC score for train dataset\n",
    "roc_auc_score_gbclf_train = roc_auc_score(y_train, gb_clf.predict_proba(X_train)[:,1])\n",
    "print(f'roc_auc_score for train: {roc_auc_score_gbclf_train}')\n",
    "\n",
    "# ROC-AUC score for val dataset\n",
    "roc_auc_score_gbclf_val = roc_auc_score(y_val, gb_clf.predict_proba(X_val)[:,1])\n",
    "print(f'roc_auc_score for val: {roc_auc_score_gbclf_val}')\n",
    "\n",
    "# Append model score to 'model_perf' list\n",
    "model_perf.append({'model': 'Gradient Boosting Classifier',\n",
    "                   'management of imbalanced data':'SMOTE',\n",
    "                   'scaler': '-',\n",
    "                   'Recall for train': recall_score_gbclf_train,\n",
    "                   'Recall for val': recall_score_gbclf_val,\n",
    "                   'ROC-AUC Score for train': roc_auc_score_gbclf_train,\n",
    "                   'ROC-AUC Score for val': roc_auc_score_gbclf_val})\n",
    "\n",
    "# Display Classification Metrics for val\n",
    "print('\\n')\n",
    "print('Classification Report for val dataset')\n",
    "print(classification_report(y_val, gb_clf.predict(X_val)))"
   ]
  },
  {
   "cell_type": "code",
   "execution_count": null,
   "id": "f04c2bd2",
   "metadata": {},
   "outputs": [],
   "source": [
    "# Display summary of model performance\n",
    "pd.DataFrame(model_perf)"
   ]
  },
  {
   "cell_type": "markdown",
   "id": "34fc3077",
   "metadata": {},
   "source": [
    "Adaboost model with oversampling of minority class using replacement gives the best performance with highest recall score of 79% and ROC-AUC score of 85%. Hyperparameter tuning was then performed to optimise the model. "
   ]
  },
  {
   "cell_type": "markdown",
   "id": "d5508049",
   "metadata": {},
   "source": [
    "### Hyperparameter tuning"
   ]
  },
  {
   "cell_type": "code",
   "execution_count": null,
   "id": "d1ce4e56",
   "metadata": {},
   "outputs": [],
   "source": [
    "## Modelling with Adaptive Boosting Classifier with GridSearchCV - RandomOverSampler / MinMaxScaler\n",
    "\n",
    "print('*Adaptive Boosting Classifier with GridSearchCV - RandomOverSampler / MinMaxScaler*')\n",
    "\n",
    "# Instatiate\n",
    "ros = RandomOverSampler()\n",
    "mms = MinMaxScaler()\n",
    "ad_clf = AdaBoostClassifier()\n",
    "dt2_2 = DecisionTreeClassifier(max_depth=2, class_weight={0:1,1:2})\n",
    "dt2_3 = DecisionTreeClassifier(max_depth=2, class_weight={0:1,1:3})\n",
    "dt2_4 = DecisionTreeClassifier(max_depth=2, class_weight={0:1,1:4})\n",
    "\n",
    "# Create Pipeline\n",
    "\n",
    "pipe_ros_mms_adclf = imbpipeline(steps =[['ros', ros],\n",
    "                                         ['mms', mms],\n",
    "                                         ['ad_clf', ad_clf]])\n",
    "\n",
    "\n",
    "# Set testing params\n",
    "pipe_ros_mms_adclf_params = {'ros__sampling_strategy': ['not majority'],\n",
    "                             'ros__random_state': [1],\n",
    "                             'ad_clf__base_estimator': [dt2_4], #[dt2_2, dt2_3, dt2_4]\n",
    "                             'ad_clf__learning_rate': [0.01], #[0.01, 0.05]\n",
    "                             'ad_clf__n_estimators': [100], #[50, 100, 200]\n",
    "                             }\n",
    "kf = StratifiedKFold(n_splits=3, shuffle=True, random_state=1)\n",
    "\n",
    "                            \n",
    "# Set GridSearchCV\n",
    "pipe_ros_mms_adclf_gs = GridSearchCV(pipe_ros_mms_adclf, pipe_ros_mms_adclf_params, cv=kf, scoring='recall') \n",
    "\n",
    "# Train model\n",
    "pipe_ros_mms_adclf_gs.fit(X_train, y_train)\n",
    "\n",
    "# Recall score for train dataset\n",
    "recall_score_adclf_gs_train = recall_score(y_train, pipe_ros_mms_adclf_gs.predict(X_train))\n",
    "print(f'Recall_score for train: {recall_score_adclf_gs_train}')\n",
    "\n",
    "# Recall score for val dataset\n",
    "recall_score_adclf_gs_val = recall_score(y_val, pipe_ros_mms_adclf_gs.predict(X_val))\n",
    "print(f'Recall_score for val: {recall_score_adclf_gs_val}')\n",
    "\n",
    "# ROC-AUC score for train dataset\n",
    "roc_auc_score_adclf_gs_train = roc_auc_score(y_train, pipe_ros_mms_adclf_gs.predict_proba(X_train)[:,1])\n",
    "print(f'roc_auc_score for train: {roc_auc_score_adclf_gs_train}')\n",
    "\n",
    "# ROC-AUC score for val dataset\n",
    "roc_auc_score_mms_adclf_gs_val = roc_auc_score(y_val, pipe_ros_mms_adclf_gs.predict_proba(X_val)[:,1])\n",
    "print(f'roc_auc_score for val: {roc_auc_score_mms_adclf_gs_val}')\n",
    "\n",
    "# Append model score to 'model_perf' list\n",
    "model_perf.append({'model': 'Adaptive Boosting Classifier with hyperparameter tuning',\n",
    "                   'management of imbalanced data':'oversampling of minority class using replacement',\n",
    "                   'scaler': 'MinMaxScaler',\n",
    "                   'Recall for train': recall_score_adclf_gs_train,\n",
    "                   'Recall for val': recall_score_adclf_gs_val,\n",
    "                   'ROC-AUC Score for train': roc_auc_score_adclf_gs_train,\n",
    "                   'ROC-AUC Score for val': roc_auc_score_mms_adclf_gs_val})\n",
    "\n",
    "# Display Classification Metrics for val\n",
    "print('\\n')\n",
    "print('Classification Report for val dataset')\n",
    "print(classification_report(y_val, pipe_ros_mms_adclf_gs.predict(X_val)))"
   ]
  },
  {
   "cell_type": "code",
   "execution_count": null,
   "id": "1eb7050d",
   "metadata": {},
   "outputs": [],
   "source": [
    "# Display best parameters for our model\n",
    "pipe_ros_mms_adclf_gs.best_params_"
   ]
  },
  {
   "cell_type": "markdown",
   "id": "09e1a80c",
   "metadata": {},
   "source": [
    "## Summary of model performance"
   ]
  },
  {
   "cell_type": "code",
   "execution_count": null,
   "id": "d616c6c0",
   "metadata": {},
   "outputs": [],
   "source": [
    "# Display summary of model performance with tuned model\n",
    "pd.DataFrame(model_perf)"
   ]
  },
  {
   "cell_type": "markdown",
   "id": "13979acc",
   "metadata": {},
   "source": [
    "The tuned model achieved a high recall score of 96% with good ROC-AUC score of above 80%. "
   ]
  },
  {
   "cell_type": "code",
   "execution_count": null,
   "id": "1e9bdd0b",
   "metadata": {},
   "outputs": [],
   "source": [
    "# Confusion Matrix for test dataset using best model after hyperparameter tuning\n",
    "\n",
    "y_pred = pipe_ros_mms_adclf_gs.predict(X_val)\n",
    "\n",
    "plt.figure(figsize =(5,5))\n",
    "\n",
    "cf_matrix = confusion_matrix(y_val, y_pred)\n",
    "\n",
    "group_names = ['Correctly labelled \\n as \"no Wnv\" (TN)','Wrongly labelled \\n as \"WnvPresent\" (FP)',\n",
    "               'Wrongly labelled \\n as \"no Wnv\" (FN)','Correctly labelled \\n as \"WnvPresent\" (TP)']\n",
    "group_counts = [\"{0:0.0f}\".format(value) for value in\n",
    "                cf_matrix.flatten()]\n",
    "group_percentages = [\"{0:.2%}\".format(value) for value in\n",
    "                     cf_matrix.flatten()/np.sum(cf_matrix)]\n",
    "\n",
    "labels = [f\"{v1}\\n{v2}\\n{v3}\" for v1, v2, v3 in\n",
    "          zip(group_names,group_counts,group_percentages)]\n",
    "labels = np.asarray(labels).reshape(2,2)\n",
    "\n",
    "sns.heatmap(cf_matrix, annot=labels, fmt='', cmap='Blues')\n",
    "\n",
    "plt.title('Confusion Matrix for validation dataset')\n",
    "plt.xlabel('Predicted Label')\n",
    "plt.ylabel('True Label')\n",
    "plt.xticks(ticks=(0.5,1.5),labels=('No Wnv','WnvPresent'))\n",
    "plt.yticks(ticks=(0.5,1.5),labels=('No Wnv','WnvPresent'))\n",
    "\n",
    "plt.show()"
   ]
  },
  {
   "cell_type": "markdown",
   "id": "f6b224a9",
   "metadata": {},
   "source": [
    "Our focus is to correctly predict the positive labels 'Presence of WNV'. Out of the 165 positive observations, 159 of them are correctly predicted. This shows that our model can predict the west nile virus label well on unseen validation dataset."
   ]
  },
  {
   "cell_type": "code",
   "execution_count": null,
   "id": "671057f9",
   "metadata": {},
   "outputs": [],
   "source": [
    "# Display feature importances\n",
    "pd.DataFrame(pipe_ros_mms_adclf_gs.best_estimator_[2].feature_importances_, \n",
    "             index=sel_features).sort_values(by=0, ascending=False)"
   ]
  },
  {
   "cell_type": "markdown",
   "id": "3b1cde9e",
   "metadata": {},
   "source": [
    "The top 3 features are 'Month', 'Address' and average 'WetBulb' temperature of the past 14 days. These are expected and the location and seasonality place an importance in the mosquito breeding and activities."
   ]
  },
  {
   "cell_type": "markdown",
   "id": "7309b1ff",
   "metadata": {},
   "source": [
    "## Prediction of potential areas for spray"
   ]
  },
  {
   "cell_type": "markdown",
   "id": "ff83132c",
   "metadata": {},
   "source": [
    "Steps taken to use our model to predict the potential areas with mosquitoes with the presence of WNV"
   ]
  },
  {
   "cell_type": "code",
   "execution_count": null,
   "id": "f2d212b3",
   "metadata": {},
   "outputs": [],
   "source": [
    "# Group the dataset by location and month\n",
    "address_month_df = trap_trn_weather_sel_feat.groupby(['Address','Month']).mean()\n",
    "address_month_df.head(15)"
   ]
  },
  {
   "cell_type": "code",
   "execution_count": null,
   "id": "34f69dc9",
   "metadata": {},
   "outputs": [],
   "source": [
    "# Predict the probability of the presence of wnv using our model\n",
    "\n",
    "address_month_df['wnv_prob'] = pipe_ros_mms_adclf_gs.predict_proba(address_month_df[sel_features])[:,1]"
   ]
  },
  {
   "cell_type": "code",
   "execution_count": null,
   "id": "3f98619c",
   "metadata": {},
   "outputs": [],
   "source": [
    "# df with address and month with the wnv probability higher than 0.5\n",
    "\n",
    "address_mth_wnv = address_month_df[address_month_df.wnv_prob >= 0.5][['wnv_prob']]\n",
    "address_mth_wnv.reset_index(level=0, inplace=True)\n",
    "address_mth_wnv.reset_index(level=0, inplace=True)\n",
    "address_mth_wnv.head(10)"
   ]
  },
  {
   "cell_type": "code",
   "execution_count": null,
   "id": "e6c4ba23",
   "metadata": {},
   "outputs": [],
   "source": [
    "# Display the unique number of address with likelihood of mosquitoes with wnv\n",
    "address_mth_wnv['Address'].nunique()"
   ]
  },
  {
   "cell_type": "markdown",
   "id": "56248397",
   "metadata": {},
   "source": [
    "Using our model, we predict that 98 areas out of 138 will likely to have mosquitoes with west nile virus. "
   ]
  },
  {
   "cell_type": "code",
   "execution_count": null,
   "id": "a2f32d3f",
   "metadata": {},
   "outputs": [],
   "source": [
    "# Display the number of address with likelihood of mosquitoes with wnv by month\n",
    "address_mth_wnv.groupby(by='Month')['wnv_prob'].count()"
   ]
  },
  {
   "cell_type": "markdown",
   "id": "6bb8067b",
   "metadata": {},
   "source": [
    "The month of August have the highest number of areas with likelihood of mosquitoes with wnv."
   ]
  },
  {
   "cell_type": "code",
   "execution_count": null,
   "id": "840ad73a",
   "metadata": {},
   "outputs": [],
   "source": [
    "# df with address and the wnv presence probability for the respective months\n",
    "\n",
    "address_wvn_by_mth=address_mth_wnv[['Address','Month','wnv_prob']].pivot_table(index=['Address'],\n",
    "                                                           columns='Month',\n",
    "                                                           values='wnv_prob').reset_index()\n",
    "address_wvn_by_mth"
   ]
  },
  {
   "cell_type": "markdown",
   "id": "1c56be97",
   "metadata": {},
   "source": [
    "## Kaggle submission"
   ]
  },
  {
   "cell_type": "code",
   "execution_count": null,
   "id": "4e143663",
   "metadata": {},
   "outputs": [],
   "source": [
    "# laod dataset with test and selected features\n",
    "trap_test_weather_sel_feat = pd.read_csv('data/trap_test_weather_sel_feat.csv')"
   ]
  },
  {
   "cell_type": "code",
   "execution_count": null,
   "id": "bdd4ad38",
   "metadata": {},
   "outputs": [],
   "source": [
    "# Add Id to df for Kaggle Submission\n",
    "kaggle_sub = trap_test_weather_sel_feat[['Id']]\n",
    "\n",
    "# Tabulate the probability for Kaggle submission\n",
    "kaggle_sub['WnvPresent'] = pipe_ros_mms_adclf_gs.predict(trap_test_weather_sel_feat[sel_features])\n",
    "\n",
    "# Save to CSV\n",
    "kaggle_sub.to_csv('data/kaggle_submission.csv', index=False)"
   ]
  },
  {
   "cell_type": "markdown",
   "id": "aa167318",
   "metadata": {},
   "source": [
    "Note: Project was based on recall score optimisation and not ROC-AUC score.\n",
    "\n",
    "Submission on 16 Dec 2022:\n",
    "- Private = 0.61249\n",
    "- Public = 0.62371\n"
   ]
  }
 ],
 "metadata": {
  "kernelspec": {
   "display_name": "Python 3 (ipykernel)",
   "language": "python",
   "name": "python3"
  },
  "language_info": {
   "codemirror_mode": {
    "name": "ipython",
    "version": 3
   },
   "file_extension": ".py",
   "mimetype": "text/x-python",
   "name": "python",
   "nbconvert_exporter": "python",
   "pygments_lexer": "ipython3",
   "version": "3.9.7"
  }
 },
 "nbformat": 4,
 "nbformat_minor": 5
}
